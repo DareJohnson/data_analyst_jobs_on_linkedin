{
 "cells": [
  {
   "attachments": {
    "Linkedin.JPG": {
     "image/jpeg": "[encoded data removed]"
    }
   },
   "cell_type": "markdown",
   "metadata": {},
   "source": [
    "![Linkedin.JPG](attachment:Linkedin.JPG)"
   ]
  },
  {
   "cell_type": "markdown",
   "metadata": {},
   "source": [
    "<b>Data Analyst and analyst-related roles from Linkedin Jobs for 3 regions: Africa, Canada and United States.</b>\n",
    " \n",
    "<p></p>\n",
    " \n",
    "The analysis accesses the data from Kaggle, undergoes data cleaning and then subsequently extract insights.\n",
    "\n",
    "The attempt is to observe: \n",
    "- The frequency of job posts in the 3 different regions, \n",
    "- How salaries differs (where stipulated), \n",
    "- Industries where data analysts are most required\n",
    "- Ranks of companies which posts most job roles for analysts, and so on \n"
   ]
  },
  {
   "cell_type": "code",
   "execution_count": 1,
   "metadata": {},
   "outputs": [],
   "source": [
    "# import libraries for analysis\n",
    "import pandas as pd\n",
    "import numpy as np\n",
    "import matplotlib\n",
    "import matplotlib.pyplot as plt\n",
    "import matplotlib.dates as mdates\n",
    "import seaborn as sns\n",
    "import kaggle\n",
    "import warnings\n",
    "import zipfile\n",
    "import os\n",
    "import glob\n",
    "import re\n",
    "warnings.filterwarnings('ignore')\n",
    "\n",
    "sns.set_style('dark')\n",
    "%matplotlib inline"
   ]
  },
  {
   "cell_type": "code",
   "execution_count": 2,
   "metadata": {},
   "outputs": [],
   "source": [
    "kaggle.api.authenticate()\n",
    "kaggle.api.dataset_download_files('cedricaubin/linkedin-data-analyst-jobs-listings', unzip=False)"
   ]
  },
  {
   "cell_type": "code",
   "execution_count": 3,
   "metadata": {},
   "outputs": [],
   "source": [
    "# use zipfile to unzip the zipped folder into a new folder, and name it\n",
    "with zipfile.ZipFile('linkedin-data-analyst-jobs-listings.zip', 'r') as unzip_this:\n",
    "    unzip_this.extractall('linkedin-data-analyst-jobs-listings')"
   ]
  },
  {
   "cell_type": "code",
   "execution_count": 4,
   "metadata": {},
   "outputs": [],
   "source": [
    "# use glob module to combine the csv files in the extracted folder\n",
    "folder = glob.glob('./linkedin-data-analyst-jobs-listings/*.csv')\n",
    "\n",
    "# create a variable to append all the csv\n",
    "data = [] \n",
    "\n",
    "# for loop to \n",
    "for file in folder:\n",
    "    data.append(pd.read_csv(file))"
   ]
  },
  {
   "cell_type": "code",
   "execution_count": 5,
   "metadata": {},
   "outputs": [],
   "source": [
    "df = pd.concat(data)"
   ]
  },
  {
   "cell_type": "code",
   "execution_count": 6,
   "metadata": {},
   "outputs": [
    {
     "data": {
      "text/html": [
       "<div>\n",
       "<style scoped>\n",
       "    .dataframe tbody tr th:only-of-type {\n",
       "        vertical-align: middle;\n",
       "    }\n",
       "\n",
       "    .dataframe tbody tr th {\n",
       "        vertical-align: top;\n",
       "    }\n",
       "\n",
       "    .dataframe thead th {\n",
       "        text-align: right;\n",
       "    }\n",
       "</style>\n",
       "<table border=\"1\" class=\"dataframe\">\n",
       "  <thead>\n",
       "    <tr style=\"text-align: right;\">\n",
       "      <th></th>\n",
       "      <th>title</th>\n",
       "      <th>company</th>\n",
       "      <th>description</th>\n",
       "      <th>onsite_remote</th>\n",
       "      <th>salary</th>\n",
       "      <th>location</th>\n",
       "      <th>criteria</th>\n",
       "      <th>posted_date</th>\n",
       "      <th>link</th>\n",
       "    </tr>\n",
       "  </thead>\n",
       "  <tbody>\n",
       "    <tr>\n",
       "      <th>2842</th>\n",
       "      <td>Data Analyst</td>\n",
       "      <td>SmartSense by Digi</td>\n",
       "      <td>Join a high-performing, tight-knit team at a f...</td>\n",
       "      <td>hybrid</td>\n",
       "      <td>NaN</td>\n",
       "      <td>Mishawaka, IN</td>\n",
       "      <td>[{'Seniority level': 'Associate'}, {'Employmen...</td>\n",
       "      <td>2022-11-17</td>\n",
       "      <td>https://www.linkedin.com/jobs/view/data-analys...</td>\n",
       "    </tr>\n",
       "    <tr>\n",
       "      <th>2843</th>\n",
       "      <td>Data Analyst</td>\n",
       "      <td>Synergy Search</td>\n",
       "      <td>Nashville (Berry Hill) based company looking t...</td>\n",
       "      <td>hybrid</td>\n",
       "      <td>$85,000.00\\r\\n            -\\r\\n            $95...</td>\n",
       "      <td>Nashville Metropolitan Area</td>\n",
       "      <td>[{'Seniority level': 'Not Applicable'}, {'Empl...</td>\n",
       "      <td>2022-11-14</td>\n",
       "      <td>https://www.linkedin.com/jobs/view/data-analys...</td>\n",
       "    </tr>\n",
       "    <tr>\n",
       "      <th>2844</th>\n",
       "      <td>Data Analyst</td>\n",
       "      <td>Insight Global</td>\n",
       "      <td>Overview - Minimum 5 years in a quantitative d...</td>\n",
       "      <td>hybrid</td>\n",
       "      <td>$130,000.00\\r\\n            -\\r\\n            $1...</td>\n",
       "      <td>Burbank, CA</td>\n",
       "      <td>[{'Seniority level': 'Mid-Senior level'}, {'Em...</td>\n",
       "      <td>2022-11-14</td>\n",
       "      <td>https://www.linkedin.com/jobs/view/data-analys...</td>\n",
       "    </tr>\n",
       "  </tbody>\n",
       "</table>\n",
       "</div>"
      ],
      "text/plain": [
       "             title             company  \\\n",
       "2842  Data Analyst  SmartSense by Digi   \n",
       "2843  Data Analyst      Synergy Search   \n",
       "2844  Data Analyst      Insight Global   \n",
       "\n",
       "                                            description onsite_remote  \\\n",
       "2842  Join a high-performing, tight-knit team at a f...        hybrid   \n",
       "2843  Nashville (Berry Hill) based company looking t...        hybrid   \n",
       "2844  Overview - Minimum 5 years in a quantitative d...        hybrid   \n",
       "\n",
       "                                                 salary  \\\n",
       "2842                                                NaN   \n",
       "2843  $85,000.00\\r\\n            -\\r\\n            $95...   \n",
       "2844  $130,000.00\\r\\n            -\\r\\n            $1...   \n",
       "\n",
       "                         location  \\\n",
       "2842                Mishawaka, IN   \n",
       "2843  Nashville Metropolitan Area   \n",
       "2844                  Burbank, CA   \n",
       "\n",
       "                                               criteria posted_date  \\\n",
       "2842  [{'Seniority level': 'Associate'}, {'Employmen...  2022-11-17   \n",
       "2843  [{'Seniority level': 'Not Applicable'}, {'Empl...  2022-11-14   \n",
       "2844  [{'Seniority level': 'Mid-Senior level'}, {'Em...  2022-11-14   \n",
       "\n",
       "                                                   link  \n",
       "2842  https://www.linkedin.com/jobs/view/data-analys...  \n",
       "2843  https://www.linkedin.com/jobs/view/data-analys...  \n",
       "2844  https://www.linkedin.com/jobs/view/data-analys...  "
      ]
     },
     "execution_count": 6,
     "metadata": {},
     "output_type": "execute_result"
    }
   ],
   "source": [
    "# the last 5 rows in the data frame\n",
    "df.tail(3)"
   ]
  },
  {
   "cell_type": "markdown",
   "metadata": {},
   "source": [
    "##### the last 5 rows show that index is not reset"
   ]
  },
  {
   "cell_type": "code",
   "execution_count": 7,
   "metadata": {},
   "outputs": [
    {
     "data": {
      "text/html": [
       "<div>\n",
       "<style scoped>\n",
       "    .dataframe tbody tr th:only-of-type {\n",
       "        vertical-align: middle;\n",
       "    }\n",
       "\n",
       "    .dataframe tbody tr th {\n",
       "        vertical-align: top;\n",
       "    }\n",
       "\n",
       "    .dataframe thead th {\n",
       "        text-align: right;\n",
       "    }\n",
       "</style>\n",
       "<table border=\"1\" class=\"dataframe\">\n",
       "  <thead>\n",
       "    <tr style=\"text-align: right;\">\n",
       "      <th></th>\n",
       "      <th>title</th>\n",
       "      <th>company</th>\n",
       "      <th>description</th>\n",
       "      <th>onsite_remote</th>\n",
       "      <th>salary</th>\n",
       "      <th>location</th>\n",
       "      <th>criteria</th>\n",
       "      <th>posted_date</th>\n",
       "      <th>link</th>\n",
       "    </tr>\n",
       "  </thead>\n",
       "  <tbody>\n",
       "    <tr>\n",
       "      <th>8487</th>\n",
       "      <td>Data Analyst</td>\n",
       "      <td>SmartSense by Digi</td>\n",
       "      <td>Join a high-performing, tight-knit team at a f...</td>\n",
       "      <td>hybrid</td>\n",
       "      <td>NaN</td>\n",
       "      <td>Mishawaka, IN</td>\n",
       "      <td>[{'Seniority level': 'Associate'}, {'Employmen...</td>\n",
       "      <td>2022-11-17</td>\n",
       "      <td>https://www.linkedin.com/jobs/view/data-analys...</td>\n",
       "    </tr>\n",
       "    <tr>\n",
       "      <th>8488</th>\n",
       "      <td>Data Analyst</td>\n",
       "      <td>Synergy Search</td>\n",
       "      <td>Nashville (Berry Hill) based company looking t...</td>\n",
       "      <td>hybrid</td>\n",
       "      <td>$85,000.00\\r\\n            -\\r\\n            $95...</td>\n",
       "      <td>Nashville Metropolitan Area</td>\n",
       "      <td>[{'Seniority level': 'Not Applicable'}, {'Empl...</td>\n",
       "      <td>2022-11-14</td>\n",
       "      <td>https://www.linkedin.com/jobs/view/data-analys...</td>\n",
       "    </tr>\n",
       "    <tr>\n",
       "      <th>8489</th>\n",
       "      <td>Data Analyst</td>\n",
       "      <td>Insight Global</td>\n",
       "      <td>Overview - Minimum 5 years in a quantitative d...</td>\n",
       "      <td>hybrid</td>\n",
       "      <td>$130,000.00\\r\\n            -\\r\\n            $1...</td>\n",
       "      <td>Burbank, CA</td>\n",
       "      <td>[{'Seniority level': 'Mid-Senior level'}, {'Em...</td>\n",
       "      <td>2022-11-14</td>\n",
       "      <td>https://www.linkedin.com/jobs/view/data-analys...</td>\n",
       "    </tr>\n",
       "  </tbody>\n",
       "</table>\n",
       "</div>"
      ],
      "text/plain": [
       "             title             company  \\\n",
       "8487  Data Analyst  SmartSense by Digi   \n",
       "8488  Data Analyst      Synergy Search   \n",
       "8489  Data Analyst      Insight Global   \n",
       "\n",
       "                                            description onsite_remote  \\\n",
       "8487  Join a high-performing, tight-knit team at a f...        hybrid   \n",
       "8488  Nashville (Berry Hill) based company looking t...        hybrid   \n",
       "8489  Overview - Minimum 5 years in a quantitative d...        hybrid   \n",
       "\n",
       "                                                 salary  \\\n",
       "8487                                                NaN   \n",
       "8488  $85,000.00\\r\\n            -\\r\\n            $95...   \n",
       "8489  $130,000.00\\r\\n            -\\r\\n            $1...   \n",
       "\n",
       "                         location  \\\n",
       "8487                Mishawaka, IN   \n",
       "8488  Nashville Metropolitan Area   \n",
       "8489                  Burbank, CA   \n",
       "\n",
       "                                               criteria posted_date  \\\n",
       "8487  [{'Seniority level': 'Associate'}, {'Employmen...  2022-11-17   \n",
       "8488  [{'Seniority level': 'Not Applicable'}, {'Empl...  2022-11-14   \n",
       "8489  [{'Seniority level': 'Mid-Senior level'}, {'Em...  2022-11-14   \n",
       "\n",
       "                                                   link  \n",
       "8487  https://www.linkedin.com/jobs/view/data-analys...  \n",
       "8488  https://www.linkedin.com/jobs/view/data-analys...  \n",
       "8489  https://www.linkedin.com/jobs/view/data-analys...  "
      ]
     },
     "execution_count": 7,
     "metadata": {},
     "output_type": "execute_result"
    }
   ],
   "source": [
    "# reset the index permanently in place \n",
    "df.reset_index(drop=True, inplace=True)\n",
    "df.tail(3)"
   ]
  },
  {
   "cell_type": "code",
   "execution_count": 8,
   "metadata": {
    "scrolled": true
   },
   "outputs": [
    {
     "name": "stdout",
     "output_type": "stream",
     "text": [
      "<class 'pandas.core.frame.DataFrame'>\n",
      "RangeIndex: 8490 entries, 0 to 8489\n",
      "Data columns (total 9 columns):\n",
      " #   Column         Non-Null Count  Dtype \n",
      "---  ------         --------------  ----- \n",
      " 0   title          8490 non-null   object\n",
      " 1   company        8490 non-null   object\n",
      " 2   description    8490 non-null   object\n",
      " 3   onsite_remote  8490 non-null   object\n",
      " 4   salary         965 non-null    object\n",
      " 5   location       8490 non-null   object\n",
      " 6   criteria       8490 non-null   object\n",
      " 7   posted_date    8490 non-null   object\n",
      " 8   link           8490 non-null   object\n",
      "dtypes: object(9)\n",
      "memory usage: 597.1+ KB\n"
     ]
    }
   ],
   "source": [
    "df.info() # to check summary of data types, non-null values, etc"
   ]
  },
  {
   "cell_type": "markdown",
   "metadata": {},
   "source": [
    "`"
   ]
  },
  {
   "cell_type": "markdown",
   "metadata": {},
   "source": [
    "#### Data cleaning"
   ]
  },
  {
   "cell_type": "code",
   "execution_count": 9,
   "metadata": {
    "scrolled": true
   },
   "outputs": [
    {
     "data": {
      "text/plain": [
       "Index(['title', 'company', 'description', 'onsite_remote', 'salary',\n",
       "       'location', 'criteria', 'posted_date', 'link'],\n",
       "      dtype='object')"
      ]
     },
     "execution_count": 9,
     "metadata": {},
     "output_type": "execute_result"
    }
   ],
   "source": [
    "df.columns"
   ]
  },
  {
   "cell_type": "code",
   "execution_count": 10,
   "metadata": {},
   "outputs": [],
   "source": [
    "# converting the date column from object to date\n",
    "df['posted_date'] = pd.to_datetime(df['posted_date']) "
   ]
  },
  {
   "cell_type": "code",
   "execution_count": 11,
   "metadata": {},
   "outputs": [
    {
     "name": "stdout",
     "output_type": "stream",
     "text": [
      "./linkedin-data-analyst-jobs-listings\\linkedin-jobs-africa.csv\n",
      "./linkedin-data-analyst-jobs-listings\\linkedin-jobs-canada.csv\n",
      "./linkedin-data-analyst-jobs-listings\\linkedin-jobs-usa.csv\n"
     ]
    }
   ],
   "source": [
    "for file in folder:\n",
    "    print(file)"
   ]
  },
  {
   "cell_type": "code",
   "execution_count": 12,
   "metadata": {},
   "outputs": [
    {
     "name": "stdout",
     "output_type": "stream",
     "text": [
      "Africa jobs has: 2872 listings\n",
      "Canada jobs has: 2773 listings\n",
      "US jobs has: 2845 listings\n"
     ]
    }
   ],
   "source": [
    "print('Africa jobs has:', len(pd.read_csv(folder[0])), 'listings')\n",
    "print('Canada jobs has:', len(pd.read_csv(folder[1])), 'listings')\n",
    "print('US jobs has:', len(pd.read_csv(folder[2])), 'listings')"
   ]
  },
  {
   "cell_type": "code",
   "execution_count": 13,
   "metadata": {},
   "outputs": [],
   "source": [
    "# splitting the location column\n",
    "df[['city', 'province/state', 'country']] = df.location.str.split(',', expand=True)"
   ]
  },
  {
   "cell_type": "code",
   "execution_count": 14,
   "metadata": {},
   "outputs": [
    {
     "name": "stdout",
     "output_type": "stream",
     "text": [
      "Total number of countries:  13\n"
     ]
    },
    {
     "data": {
      "text/plain": [
       "array([' Egypt', None, ' South Africa', ' Kenya', ' Botswana', ' Senegal',\n",
       "       ' Tunisia', ' The Gambia', ' Nigeria', ' Morocco', ' Ghana',\n",
       "       ' Mali', ' Zimbabwe', ' Canada'], dtype=object)"
      ]
     },
     "execution_count": 14,
     "metadata": {},
     "output_type": "execute_result"
    }
   ],
   "source": [
    "# checking the uniqueness of country column\n",
    "print('Total number of countries: ', df['country'].nunique())\n",
    "df['country'].unique()"
   ]
  },
  {
   "cell_type": "code",
   "execution_count": 15,
   "metadata": {},
   "outputs": [
    {
     "data": {
      "text/plain": [
       "NaN              4031\n",
       " Canada          2280\n",
       " South Africa    1096\n",
       " Botswana         272\n",
       " Nigeria          215\n",
       " Egypt            149\n",
       " Kenya            126\n",
       " Ghana             78\n",
       " Mali              76\n",
       " Morocco           52\n",
       " Tunisia           38\n",
       " Zimbabwe          38\n",
       " Senegal           36\n",
       " The Gambia         3\n",
       "Name: country, dtype: int64"
      ]
     },
     "execution_count": 15,
     "metadata": {},
     "output_type": "execute_result"
    }
   ],
   "source": [
    "df['country'].value_counts(dropna=False)"
   ]
  },
  {
   "cell_type": "code",
   "execution_count": 16,
   "metadata": {},
   "outputs": [
    {
     "data": {
      "text/plain": [
       "array([' Canada', None], dtype=object)"
      ]
     },
     "execution_count": 16,
     "metadata": {},
     "output_type": "execute_result"
    }
   ],
   "source": [
    "# examining location column which shows 'None' as its name, especially the latter part of the data\n",
    "df.country.iloc[5644:].unique()"
   ]
  },
  {
   "cell_type": "code",
   "execution_count": 17,
   "metadata": {},
   "outputs": [],
   "source": [
    "# fill country column for all US rows - \n",
    "df.country.iloc[5645:].fillna('United States', inplace=True)"
   ]
  },
  {
   "cell_type": "code",
   "execution_count": 18,
   "metadata": {},
   "outputs": [
    {
     "data": {
      "text/plain": [
       "array([' Egypt', None, ' South Africa', ' Kenya', ' Botswana', ' Senegal',\n",
       "       ' Tunisia', ' The Gambia', ' Nigeria', ' Morocco', ' Ghana',\n",
       "       ' Mali', ' Zimbabwe', ' Canada', 'United States'], dtype=object)"
      ]
     },
     "execution_count": 18,
     "metadata": {},
     "output_type": "execute_result"
    }
   ],
   "source": [
    "df.country.unique()"
   ]
  },
  {
   "cell_type": "code",
   "execution_count": 19,
   "metadata": {},
   "outputs": [
    {
     "data": {
      "text/plain": [
       "1186"
      ]
     },
     "execution_count": 19,
     "metadata": {},
     "output_type": "execute_result"
    }
   ],
   "source": [
    "# other countries with 'None' or Nan in country column\n",
    "df[df.country.isna()]\n",
    "len(df[df.country.isna()])"
   ]
  },
  {
   "cell_type": "code",
   "execution_count": 20,
   "metadata": {},
   "outputs": [],
   "source": [
    "# fill missing values in country column...either with Province/State or City value\n",
    "df['country'] = df['country'].fillna(df['province/state'].fillna(df['city']))"
   ]
  },
  {
   "cell_type": "code",
   "execution_count": 21,
   "metadata": {},
   "outputs": [
    {
     "data": {
      "text/html": [
       "<div>\n",
       "<style scoped>\n",
       "    .dataframe tbody tr th:only-of-type {\n",
       "        vertical-align: middle;\n",
       "    }\n",
       "\n",
       "    .dataframe tbody tr th {\n",
       "        vertical-align: top;\n",
       "    }\n",
       "\n",
       "    .dataframe thead th {\n",
       "        text-align: right;\n",
       "    }\n",
       "</style>\n",
       "<table border=\"1\" class=\"dataframe\">\n",
       "  <thead>\n",
       "    <tr style=\"text-align: right;\">\n",
       "      <th></th>\n",
       "      <th>title</th>\n",
       "      <th>company</th>\n",
       "      <th>description</th>\n",
       "      <th>onsite_remote</th>\n",
       "      <th>salary</th>\n",
       "      <th>location</th>\n",
       "      <th>criteria</th>\n",
       "      <th>posted_date</th>\n",
       "      <th>link</th>\n",
       "      <th>city</th>\n",
       "      <th>province/state</th>\n",
       "      <th>country</th>\n",
       "    </tr>\n",
       "  </thead>\n",
       "  <tbody>\n",
       "  </tbody>\n",
       "</table>\n",
       "</div>"
      ],
      "text/plain": [
       "Empty DataFrame\n",
       "Columns: [title, company, description, onsite_remote, salary, location, criteria, posted_date, link, city, province/state, country]\n",
       "Index: []"
      ]
     },
     "execution_count": 21,
     "metadata": {},
     "output_type": "execute_result"
    }
   ],
   "source": [
    "# check to see if Nan or None still remains\n",
    "df[df.country.isna()]"
   ]
  },
  {
   "cell_type": "markdown",
   "metadata": {},
   "source": [
    "##### all the rows in the country columns with Nan have been filled"
   ]
  },
  {
   "cell_type": "markdown",
   "metadata": {},
   "source": [
    "`"
   ]
  },
  {
   "cell_type": "code",
   "execution_count": 22,
   "metadata": {},
   "outputs": [
    {
     "data": {
      "text/plain": [
       "array([' Egypt', ' Kenya', ' South Africa', ' Botswana', ' Senegal',\n",
       "       ' Tunisia', ' The Gambia', 'Ghana', ' Nigeria', ' Morocco',\n",
       "       ' Burkina Faso', ' Ghana', 'Egypt', 'Eastern Africa',\n",
       "       'South Africa', ' Mali', 'Kenya', ' Zimbabwe',\n",
       "       'Johannesburg Metropolitan Area', ' Canada',\n",
       "       'Greater Montreal Metropolitan Area', 'Canada', 'United States'],\n",
       "      dtype=object)"
      ]
     },
     "execution_count": 22,
     "metadata": {},
     "output_type": "execute_result"
    }
   ],
   "source": [
    "# distinct country in the column\n",
    "df['country'].unique()"
   ]
  },
  {
   "cell_type": "code",
   "execution_count": 23,
   "metadata": {},
   "outputs": [],
   "source": [
    "# replace 'Johannesburg Metropolitan Area' and 'Greater Montreal Metropolitan Area' with actual country names \n",
    "df.loc[df['country'] == 'Johannesburg Metropolitan Area', 'country'] = 'South Africa'\n",
    "df.loc[df['country'] == 'Greater Montreal Metropolitan Area', 'country'] = 'Canada'"
   ]
  },
  {
   "cell_type": "code",
   "execution_count": 24,
   "metadata": {},
   "outputs": [
    {
     "name": "stdout",
     "output_type": "stream",
     "text": [
      "Total countries: 21\n"
     ]
    },
    {
     "data": {
      "text/plain": [
       "array([' Egypt', ' Kenya', ' South Africa', ' Botswana', ' Senegal',\n",
       "       ' Tunisia', ' The Gambia', 'Ghana', ' Nigeria', ' Morocco',\n",
       "       ' Burkina Faso', ' Ghana', 'Egypt', 'Eastern Africa',\n",
       "       'South Africa', ' Mali', 'Kenya', ' Zimbabwe', ' Canada', 'Canada',\n",
       "       'United States'], dtype=object)"
      ]
     },
     "execution_count": 24,
     "metadata": {},
     "output_type": "execute_result"
    }
   ],
   "source": [
    "print('Total countries:',df['country'].nunique())\n",
    "df['country'].unique()"
   ]
  },
  {
   "cell_type": "code",
   "execution_count": 25,
   "metadata": {},
   "outputs": [
    {
     "data": {
      "text/plain": [
       "United States     2845\n",
       " Canada           2404\n",
       " South Africa     1210\n",
       "Canada             369\n",
       " Botswana          308\n",
       "South Africa       228\n",
       " Nigeria           215\n",
       " Kenya             198\n",
       " Egypt             187\n",
       "Egypt               87\n",
       " Ghana              78\n",
       " Mali               76\n",
       "Ghana               56\n",
       " Morocco            52\n",
       " Zimbabwe           38\n",
       " Tunisia            38\n",
       "Eastern Africa      38\n",
       " Senegal            36\n",
       "Kenya               22\n",
       " The Gambia          3\n",
       " Burkina Faso        2\n",
       "Name: country, dtype: int64"
      ]
     },
     "execution_count": 25,
     "metadata": {},
     "output_type": "execute_result"
    }
   ],
   "source": [
    "# some countries appear twice because of either leading or trailing space\n",
    "df['country'].value_counts()"
   ]
  },
  {
   "cell_type": "code",
   "execution_count": 26,
   "metadata": {},
   "outputs": [],
   "source": [
    "# to remove both the leading and trailing white spaces\n",
    "df['country'] = df['country'].str.strip()"
   ]
  },
  {
   "cell_type": "code",
   "execution_count": 27,
   "metadata": {},
   "outputs": [
    {
     "name": "stdout",
     "output_type": "stream",
     "text": [
      "Total number of countries after cleaning leading/trailing spaces:  16\n"
     ]
    },
    {
     "data": {
      "text/plain": [
       "array(['Egypt', 'Kenya', 'South Africa', 'Botswana', 'Senegal', 'Tunisia',\n",
       "       'The Gambia', 'Ghana', 'Nigeria', 'Morocco', 'Burkina Faso',\n",
       "       'Eastern Africa', 'Mali', 'Zimbabwe', 'Canada', 'United States'],\n",
       "      dtype=object)"
      ]
     },
     "execution_count": 27,
     "metadata": {},
     "output_type": "execute_result"
    }
   ],
   "source": [
    "print('Total number of countries after cleaning leading/trailing spaces: ', df['country'].nunique())\n",
    "df['country'].unique()"
   ]
  },
  {
   "cell_type": "markdown",
   "metadata": {},
   "source": [
    "`"
   ]
  },
  {
   "cell_type": "code",
   "execution_count": 28,
   "metadata": {},
   "outputs": [
    {
     "data": {
      "text/html": [
       "<div>\n",
       "<style scoped>\n",
       "    .dataframe tbody tr th:only-of-type {\n",
       "        vertical-align: middle;\n",
       "    }\n",
       "\n",
       "    .dataframe tbody tr th {\n",
       "        vertical-align: top;\n",
       "    }\n",
       "\n",
       "    .dataframe thead th {\n",
       "        text-align: right;\n",
       "    }\n",
       "</style>\n",
       "<table border=\"1\" class=\"dataframe\">\n",
       "  <thead>\n",
       "    <tr style=\"text-align: right;\">\n",
       "      <th></th>\n",
       "      <th>title</th>\n",
       "      <th>company</th>\n",
       "      <th>description</th>\n",
       "      <th>onsite_remote</th>\n",
       "      <th>salary</th>\n",
       "      <th>location</th>\n",
       "      <th>criteria</th>\n",
       "      <th>posted_date</th>\n",
       "      <th>link</th>\n",
       "      <th>city</th>\n",
       "      <th>province/state</th>\n",
       "      <th>country</th>\n",
       "    </tr>\n",
       "  </thead>\n",
       "  <tbody>\n",
       "    <tr>\n",
       "      <th>0</th>\n",
       "      <td>Data Analyst</td>\n",
       "      <td>NNC</td>\n",
       "      <td>We are looking for a passionate certified Data...</td>\n",
       "      <td>onsite</td>\n",
       "      <td>NaN</td>\n",
       "      <td>Cairo, Cairo, Egypt</td>\n",
       "      <td>مستوى الأقدمية: غير مطبق, نوع التوظيف: دوام كا...</td>\n",
       "      <td>2022-11-18</td>\n",
       "      <td>https://eg.linkedin.com/jobs/view/data-analyst...</td>\n",
       "      <td>Cairo</td>\n",
       "      <td>Cairo</td>\n",
       "      <td>Egypt</td>\n",
       "    </tr>\n",
       "    <tr>\n",
       "      <th>1</th>\n",
       "      <td>Data Analyst</td>\n",
       "      <td>Watu Credit</td>\n",
       "      <td>WATU is a focus-driven, customer-centric compa...</td>\n",
       "      <td>onsite</td>\n",
       "      <td>NaN</td>\n",
       "      <td>Nairobi County, Kenya</td>\n",
       "      <td>Seniority level: Associate, Employment type: F...</td>\n",
       "      <td>2022-11-01</td>\n",
       "      <td>https://ke.linkedin.com/jobs/view/data-analyst...</td>\n",
       "      <td>Nairobi County</td>\n",
       "      <td>Kenya</td>\n",
       "      <td>Kenya</td>\n",
       "    </tr>\n",
       "  </tbody>\n",
       "</table>\n",
       "</div>"
      ],
      "text/plain": [
       "          title      company  \\\n",
       "0  Data Analyst          NNC   \n",
       "1  Data Analyst  Watu Credit   \n",
       "\n",
       "                                         description onsite_remote salary  \\\n",
       "0  We are looking for a passionate certified Data...        onsite    NaN   \n",
       "1  WATU is a focus-driven, customer-centric compa...        onsite    NaN   \n",
       "\n",
       "                location                                           criteria  \\\n",
       "0    Cairo, Cairo, Egypt  مستوى الأقدمية: غير مطبق, نوع التوظيف: دوام كا...   \n",
       "1  Nairobi County, Kenya  Seniority level: Associate, Employment type: F...   \n",
       "\n",
       "  posted_date                                               link  \\\n",
       "0  2022-11-18  https://eg.linkedin.com/jobs/view/data-analyst...   \n",
       "1  2022-11-01  https://ke.linkedin.com/jobs/view/data-analyst...   \n",
       "\n",
       "             city province/state country  \n",
       "0           Cairo          Cairo   Egypt  \n",
       "1  Nairobi County          Kenya   Kenya  "
      ]
     },
     "execution_count": 28,
     "metadata": {},
     "output_type": "execute_result"
    }
   ],
   "source": [
    "# function to remove the parentheses and hard brackets in CRITERIA column\n",
    "def clean_string(string):\n",
    "    clean = string.replace(\"[\", \"\").replace(\"]\", \"\").replace(\"{\", \"\").replace(\"}\", \"\").replace(\"'\",'').replace(\"'\",'')\n",
    "    return clean\n",
    "\n",
    "\n",
    "# clean_string function applied on CRITERIA column\n",
    "df['criteria'] = df['criteria'].apply(clean_string)\n",
    "\n",
    "\n",
    "df.head(2)\n"
   ]
  },
  {
   "cell_type": "code",
   "execution_count": 29,
   "metadata": {},
   "outputs": [],
   "source": [
    "# split the 'criteria' column into four separate columns\n",
    "df[['position level', 'employment type', 'job function', 'industries']] = df['criteria'].str.split(',', expand=True, n=3)"
   ]
  },
  {
   "cell_type": "code",
   "execution_count": 30,
   "metadata": {},
   "outputs": [],
   "source": [
    "# remove unwanted characters and strip the leading/trailing whitespaces from the newly created columns\n",
    "df['position level'] = df['position level'].str.split(':').str[1].str.strip()\n",
    "df['employment type'] = df['employment type'].str.split(':').str[1].str.strip()\n",
    "df['job function'] = df['job function'].str.split(':').str[1].str.strip()\n",
    "df['industries'] = df['industries'].str.split(':').str[1].str.strip()"
   ]
  },
  {
   "cell_type": "code",
   "execution_count": 31,
   "metadata": {},
   "outputs": [
    {
     "data": {
      "text/html": [
       "<div>\n",
       "<style scoped>\n",
       "    .dataframe tbody tr th:only-of-type {\n",
       "        vertical-align: middle;\n",
       "    }\n",
       "\n",
       "    .dataframe tbody tr th {\n",
       "        vertical-align: top;\n",
       "    }\n",
       "\n",
       "    .dataframe thead th {\n",
       "        text-align: right;\n",
       "    }\n",
       "</style>\n",
       "<table border=\"1\" class=\"dataframe\">\n",
       "  <thead>\n",
       "    <tr style=\"text-align: right;\">\n",
       "      <th></th>\n",
       "      <th>title</th>\n",
       "      <th>company</th>\n",
       "      <th>description</th>\n",
       "      <th>onsite_remote</th>\n",
       "      <th>salary</th>\n",
       "      <th>location</th>\n",
       "      <th>criteria</th>\n",
       "      <th>posted_date</th>\n",
       "      <th>link</th>\n",
       "      <th>city</th>\n",
       "      <th>province/state</th>\n",
       "      <th>country</th>\n",
       "      <th>position level</th>\n",
       "      <th>employment type</th>\n",
       "      <th>job function</th>\n",
       "      <th>industries</th>\n",
       "    </tr>\n",
       "  </thead>\n",
       "  <tbody>\n",
       "    <tr>\n",
       "      <th>0</th>\n",
       "      <td>Data Analyst</td>\n",
       "      <td>NNC</td>\n",
       "      <td>We are looking for a passionate certified Data...</td>\n",
       "      <td>onsite</td>\n",
       "      <td>NaN</td>\n",
       "      <td>Cairo, Cairo, Egypt</td>\n",
       "      <td>مستوى الأقدمية: غير مطبق, نوع التوظيف: دوام كا...</td>\n",
       "      <td>2022-11-18</td>\n",
       "      <td>https://eg.linkedin.com/jobs/view/data-analyst...</td>\n",
       "      <td>Cairo</td>\n",
       "      <td>Cairo</td>\n",
       "      <td>Egypt</td>\n",
       "      <td>غير مطبق</td>\n",
       "      <td>دوام كامل</td>\n",
       "      <td>محلل</td>\n",
       "      <td>التكنولوجيا والمعلومات والإنترنت</td>\n",
       "    </tr>\n",
       "    <tr>\n",
       "      <th>1</th>\n",
       "      <td>Data Analyst</td>\n",
       "      <td>Watu Credit</td>\n",
       "      <td>WATU is a focus-driven, customer-centric compa...</td>\n",
       "      <td>onsite</td>\n",
       "      <td>NaN</td>\n",
       "      <td>Nairobi County, Kenya</td>\n",
       "      <td>Seniority level: Associate, Employment type: F...</td>\n",
       "      <td>2022-11-01</td>\n",
       "      <td>https://ke.linkedin.com/jobs/view/data-analyst...</td>\n",
       "      <td>Nairobi County</td>\n",
       "      <td>Kenya</td>\n",
       "      <td>Kenya</td>\n",
       "      <td>Associate</td>\n",
       "      <td>Full-time</td>\n",
       "      <td>Analyst</td>\n",
       "      <td>Financial Services</td>\n",
       "    </tr>\n",
       "    <tr>\n",
       "      <th>2</th>\n",
       "      <td>Data Analyst (Credit Risk)</td>\n",
       "      <td>Kuda</td>\n",
       "      <td>Kuda is a fintech on a mission to make financi...</td>\n",
       "      <td>onsite</td>\n",
       "      <td>NaN</td>\n",
       "      <td>Cape Town, Western Cape, South Africa</td>\n",
       "      <td>Seniority level: Not Applicable, Employment ty...</td>\n",
       "      <td>2022-11-21</td>\n",
       "      <td>https://za.linkedin.com/jobs/view/data-analyst...</td>\n",
       "      <td>Cape Town</td>\n",
       "      <td>Western Cape</td>\n",
       "      <td>South Africa</td>\n",
       "      <td>Not Applicable</td>\n",
       "      <td>Full-time</td>\n",
       "      <td>Analyst</td>\n",
       "      <td>Technology, Information and Internet</td>\n",
       "    </tr>\n",
       "  </tbody>\n",
       "</table>\n",
       "</div>"
      ],
      "text/plain": [
       "                        title      company  \\\n",
       "0                Data Analyst          NNC   \n",
       "1                Data Analyst  Watu Credit   \n",
       "2  Data Analyst (Credit Risk)         Kuda   \n",
       "\n",
       "                                         description onsite_remote salary  \\\n",
       "0  We are looking for a passionate certified Data...        onsite    NaN   \n",
       "1  WATU is a focus-driven, customer-centric compa...        onsite    NaN   \n",
       "2  Kuda is a fintech on a mission to make financi...        onsite    NaN   \n",
       "\n",
       "                                location  \\\n",
       "0                    Cairo, Cairo, Egypt   \n",
       "1                  Nairobi County, Kenya   \n",
       "2  Cape Town, Western Cape, South Africa   \n",
       "\n",
       "                                            criteria posted_date  \\\n",
       "0  مستوى الأقدمية: غير مطبق, نوع التوظيف: دوام كا...  2022-11-18   \n",
       "1  Seniority level: Associate, Employment type: F...  2022-11-01   \n",
       "2  Seniority level: Not Applicable, Employment ty...  2022-11-21   \n",
       "\n",
       "                                                link            city  \\\n",
       "0  https://eg.linkedin.com/jobs/view/data-analyst...           Cairo   \n",
       "1  https://ke.linkedin.com/jobs/view/data-analyst...  Nairobi County   \n",
       "2  https://za.linkedin.com/jobs/view/data-analyst...       Cape Town   \n",
       "\n",
       "  province/state       country  position level employment type job function  \\\n",
       "0          Cairo         Egypt        غير مطبق       دوام كامل         محلل   \n",
       "1          Kenya         Kenya       Associate       Full-time      Analyst   \n",
       "2   Western Cape  South Africa  Not Applicable       Full-time      Analyst   \n",
       "\n",
       "                             industries  \n",
       "0      التكنولوجيا والمعلومات والإنترنت  \n",
       "1                    Financial Services  \n",
       "2  Technology, Information and Internet  "
      ]
     },
     "execution_count": 31,
     "metadata": {},
     "output_type": "execute_result"
    }
   ],
   "source": [
    "df.head(3)"
   ]
  },
  {
   "cell_type": "markdown",
   "metadata": {},
   "source": [
    "`"
   ]
  },
  {
   "cell_type": "code",
   "execution_count": 32,
   "metadata": {},
   "outputs": [
    {
     "data": {
      "text/html": [
       "<div>\n",
       "<style scoped>\n",
       "    .dataframe tbody tr th:only-of-type {\n",
       "        vertical-align: middle;\n",
       "    }\n",
       "\n",
       "    .dataframe tbody tr th {\n",
       "        vertical-align: top;\n",
       "    }\n",
       "\n",
       "    .dataframe thead th {\n",
       "        text-align: right;\n",
       "    }\n",
       "</style>\n",
       "<table border=\"1\" class=\"dataframe\">\n",
       "  <thead>\n",
       "    <tr style=\"text-align: right;\">\n",
       "      <th></th>\n",
       "      <th>min salary</th>\n",
       "      <th>max salary</th>\n",
       "    </tr>\n",
       "  </thead>\n",
       "  <tbody>\n",
       "    <tr>\n",
       "      <th>8485</th>\n",
       "      <td>NaN</td>\n",
       "      <td>NaN</td>\n",
       "    </tr>\n",
       "    <tr>\n",
       "      <th>8486</th>\n",
       "      <td>$75,000.00\\r\\n</td>\n",
       "      <td>$95,000.00</td>\n",
       "    </tr>\n",
       "    <tr>\n",
       "      <th>8487</th>\n",
       "      <td>NaN</td>\n",
       "      <td>NaN</td>\n",
       "    </tr>\n",
       "    <tr>\n",
       "      <th>8488</th>\n",
       "      <td>$85,000.00\\r\\n</td>\n",
       "      <td>$95,000.00</td>\n",
       "    </tr>\n",
       "    <tr>\n",
       "      <th>8489</th>\n",
       "      <td>$130,000.00\\r\\n</td>\n",
       "      <td>$150,000.00</td>\n",
       "    </tr>\n",
       "  </tbody>\n",
       "</table>\n",
       "</div>"
      ],
      "text/plain": [
       "                       min salary               max salary\n",
       "8485                          NaN                      NaN\n",
       "8486   $75,000.00\\r\\n                           $95,000.00\n",
       "8487                          NaN                      NaN\n",
       "8488   $85,000.00\\r\\n                           $95,000.00\n",
       "8489  $130,000.00\\r\\n                          $150,000.00"
      ]
     },
     "execution_count": 32,
     "metadata": {},
     "output_type": "execute_result"
    }
   ],
   "source": [
    "# expand the salary column into min and max salary\n",
    "df[['min salary', 'max salary']] = df['salary'].str.split('-\\r\\n', expand=True)\n",
    "df[['min salary', 'max salary']].tail()"
   ]
  },
  {
   "cell_type": "code",
   "execution_count": 33,
   "metadata": {},
   "outputs": [],
   "source": [
    "# remove unwanted characters from the two columns just created\n",
    "df['min salary'] = df['min salary'].str.replace(r'[\\$\\,\\r\\n]+', '', regex=True)\n",
    "df['max salary'] = df['max salary'].str.replace(r'[\\$\\,\\r\\n]+', '', regex=True)"
   ]
  },
  {
   "cell_type": "code",
   "execution_count": 34,
   "metadata": {},
   "outputs": [
    {
     "data": {
      "text/html": [
       "<div>\n",
       "<style scoped>\n",
       "    .dataframe tbody tr th:only-of-type {\n",
       "        vertical-align: middle;\n",
       "    }\n",
       "\n",
       "    .dataframe tbody tr th {\n",
       "        vertical-align: top;\n",
       "    }\n",
       "\n",
       "    .dataframe thead th {\n",
       "        text-align: right;\n",
       "    }\n",
       "</style>\n",
       "<table border=\"1\" class=\"dataframe\">\n",
       "  <thead>\n",
       "    <tr style=\"text-align: right;\">\n",
       "      <th></th>\n",
       "      <th>min salary</th>\n",
       "      <th>max salary</th>\n",
       "    </tr>\n",
       "  </thead>\n",
       "  <tbody>\n",
       "    <tr>\n",
       "      <th>8485</th>\n",
       "      <td>NaN</td>\n",
       "      <td>NaN</td>\n",
       "    </tr>\n",
       "    <tr>\n",
       "      <th>8486</th>\n",
       "      <td>75000.00</td>\n",
       "      <td>95000.00</td>\n",
       "    </tr>\n",
       "    <tr>\n",
       "      <th>8487</th>\n",
       "      <td>NaN</td>\n",
       "      <td>NaN</td>\n",
       "    </tr>\n",
       "    <tr>\n",
       "      <th>8488</th>\n",
       "      <td>85000.00</td>\n",
       "      <td>95000.00</td>\n",
       "    </tr>\n",
       "    <tr>\n",
       "      <th>8489</th>\n",
       "      <td>130000.00</td>\n",
       "      <td>150000.00</td>\n",
       "    </tr>\n",
       "  </tbody>\n",
       "</table>\n",
       "</div>"
      ],
      "text/plain": [
       "                 min salary             max salary\n",
       "8485                    NaN                    NaN\n",
       "8486   75000.00                           95000.00\n",
       "8487                    NaN                    NaN\n",
       "8488   85000.00                           95000.00\n",
       "8489  130000.00                          150000.00"
      ]
     },
     "execution_count": 34,
     "metadata": {},
     "output_type": "execute_result"
    }
   ],
   "source": [
    "# check if salary columns unwanted characters are all removed \n",
    "df[['min salary', 'max salary']].tail()"
   ]
  },
  {
   "cell_type": "markdown",
   "metadata": {},
   "source": [
    "`"
   ]
  },
  {
   "cell_type": "code",
   "execution_count": 35,
   "metadata": {},
   "outputs": [],
   "source": [
    "# reorder the columns\n",
    "df = df[['title', 'company', 'description', 'onsite_remote', 'min salary', 'max salary','salary',\n",
    "         'location', 'criteria', 'position level', 'employment type', 'job function', 'industries', \n",
    "         'posted_date', 'link', 'city', 'province/state','country']]"
   ]
  },
  {
   "cell_type": "code",
   "execution_count": 36,
   "metadata": {},
   "outputs": [
    {
     "name": "stdout",
     "output_type": "stream",
     "text": [
      "<class 'pandas.core.frame.DataFrame'>\n",
      "RangeIndex: 8490 entries, 0 to 8489\n",
      "Data columns (total 18 columns):\n",
      " #   Column           Non-Null Count  Dtype         \n",
      "---  ------           --------------  -----         \n",
      " 0   title            8490 non-null   object        \n",
      " 1   company          8490 non-null   object        \n",
      " 2   description      8490 non-null   object        \n",
      " 3   onsite_remote    8490 non-null   object        \n",
      " 4   min salary       965 non-null    object        \n",
      " 5   max salary       965 non-null    object        \n",
      " 6   salary           965 non-null    object        \n",
      " 7   location         8490 non-null   object        \n",
      " 8   criteria         8490 non-null   object        \n",
      " 9   position level   8361 non-null   object        \n",
      " 10  employment type  7919 non-null   object        \n",
      " 11  job function     7919 non-null   object        \n",
      " 12  industries       7918 non-null   object        \n",
      " 13  posted_date      8490 non-null   datetime64[ns]\n",
      " 14  link             8490 non-null   object        \n",
      " 15  city             8490 non-null   object        \n",
      " 16  province/state   6597 non-null   object        \n",
      " 17  country          8490 non-null   object        \n",
      "dtypes: datetime64[ns](1), object(17)\n",
      "memory usage: 1.2+ MB\n"
     ]
    }
   ],
   "source": [
    "df.info()"
   ]
  },
  {
   "cell_type": "code",
   "execution_count": 37,
   "metadata": {},
   "outputs": [],
   "source": [
    "# convert \"min salary\" column to numeric\n",
    "df['min salary'] = pd.to_numeric(df['min salary'], errors='coerce')\n",
    "df['max salary'] = pd.to_numeric(df['max salary'], errors='coerce')"
   ]
  },
  {
   "cell_type": "code",
   "execution_count": 38,
   "metadata": {},
   "outputs": [],
   "source": [
    "# back up the copy of cleaned data\n",
    "data_backup = df.copy"
   ]
  },
  {
   "cell_type": "code",
   "execution_count": 39,
   "metadata": {},
   "outputs": [
    {
     "data": {
      "text/plain": [
       "Index(['title', 'company', 'description', 'onsite_remote', 'min salary',\n",
       "       'max salary', 'salary', 'location', 'criteria', 'position level',\n",
       "       'employment type', 'job function', 'industries', 'posted_date', 'link',\n",
       "       'city', 'province/state', 'country'],\n",
       "      dtype='object')"
      ]
     },
     "execution_count": 39,
     "metadata": {},
     "output_type": "execute_result"
    }
   ],
   "source": [
    "df.columns"
   ]
  },
  {
   "cell_type": "code",
   "execution_count": 40,
   "metadata": {},
   "outputs": [],
   "source": [
    "# remove columns not of interest for the exploratory data analysis\n",
    "df.drop(columns=['description', 'salary','location', 'criteria', 'link'], axis=1, inplace=True)"
   ]
  },
  {
   "cell_type": "code",
   "execution_count": 41,
   "metadata": {
    "scrolled": true
   },
   "outputs": [
    {
     "data": {
      "text/html": [
       "<div>\n",
       "<style scoped>\n",
       "    .dataframe tbody tr th:only-of-type {\n",
       "        vertical-align: middle;\n",
       "    }\n",
       "\n",
       "    .dataframe tbody tr th {\n",
       "        vertical-align: top;\n",
       "    }\n",
       "\n",
       "    .dataframe thead th {\n",
       "        text-align: right;\n",
       "    }\n",
       "</style>\n",
       "<table border=\"1\" class=\"dataframe\">\n",
       "  <thead>\n",
       "    <tr style=\"text-align: right;\">\n",
       "      <th></th>\n",
       "      <th>title</th>\n",
       "      <th>company</th>\n",
       "      <th>onsite_remote</th>\n",
       "      <th>min salary</th>\n",
       "      <th>max salary</th>\n",
       "      <th>position level</th>\n",
       "      <th>employment type</th>\n",
       "      <th>job function</th>\n",
       "      <th>industries</th>\n",
       "      <th>posted_date</th>\n",
       "      <th>city</th>\n",
       "      <th>province/state</th>\n",
       "      <th>country</th>\n",
       "    </tr>\n",
       "  </thead>\n",
       "  <tbody>\n",
       "    <tr>\n",
       "      <th>0</th>\n",
       "      <td>Data Analyst</td>\n",
       "      <td>NNC</td>\n",
       "      <td>onsite</td>\n",
       "      <td>NaN</td>\n",
       "      <td>NaN</td>\n",
       "      <td>غير مطبق</td>\n",
       "      <td>دوام كامل</td>\n",
       "      <td>محلل</td>\n",
       "      <td>التكنولوجيا والمعلومات والإنترنت</td>\n",
       "      <td>2022-11-18</td>\n",
       "      <td>Cairo</td>\n",
       "      <td>Cairo</td>\n",
       "      <td>Egypt</td>\n",
       "    </tr>\n",
       "    <tr>\n",
       "      <th>1</th>\n",
       "      <td>Data Analyst</td>\n",
       "      <td>Watu Credit</td>\n",
       "      <td>onsite</td>\n",
       "      <td>NaN</td>\n",
       "      <td>NaN</td>\n",
       "      <td>Associate</td>\n",
       "      <td>Full-time</td>\n",
       "      <td>Analyst</td>\n",
       "      <td>Financial Services</td>\n",
       "      <td>2022-11-01</td>\n",
       "      <td>Nairobi County</td>\n",
       "      <td>Kenya</td>\n",
       "      <td>Kenya</td>\n",
       "    </tr>\n",
       "    <tr>\n",
       "      <th>2</th>\n",
       "      <td>Data Analyst (Credit Risk)</td>\n",
       "      <td>Kuda</td>\n",
       "      <td>onsite</td>\n",
       "      <td>NaN</td>\n",
       "      <td>NaN</td>\n",
       "      <td>Not Applicable</td>\n",
       "      <td>Full-time</td>\n",
       "      <td>Analyst</td>\n",
       "      <td>Technology, Information and Internet</td>\n",
       "      <td>2022-11-21</td>\n",
       "      <td>Cape Town</td>\n",
       "      <td>Western Cape</td>\n",
       "      <td>South Africa</td>\n",
       "    </tr>\n",
       "  </tbody>\n",
       "</table>\n",
       "</div>"
      ],
      "text/plain": [
       "                        title      company onsite_remote  min salary  \\\n",
       "0                Data Analyst          NNC        onsite         NaN   \n",
       "1                Data Analyst  Watu Credit        onsite         NaN   \n",
       "2  Data Analyst (Credit Risk)         Kuda        onsite         NaN   \n",
       "\n",
       "   max salary  position level employment type job function  \\\n",
       "0         NaN        غير مطبق       دوام كامل         محلل   \n",
       "1         NaN       Associate       Full-time      Analyst   \n",
       "2         NaN  Not Applicable       Full-time      Analyst   \n",
       "\n",
       "                             industries posted_date            city  \\\n",
       "0      التكنولوجيا والمعلومات والإنترنت  2022-11-18           Cairo   \n",
       "1                    Financial Services  2022-11-01  Nairobi County   \n",
       "2  Technology, Information and Internet  2022-11-21       Cape Town   \n",
       "\n",
       "  province/state       country  \n",
       "0          Cairo         Egypt  \n",
       "1          Kenya         Kenya  \n",
       "2   Western Cape  South Africa  "
      ]
     },
     "execution_count": 41,
     "metadata": {},
     "output_type": "execute_result"
    }
   ],
   "source": [
    "df.head(3)"
   ]
  },
  {
   "cell_type": "markdown",
   "metadata": {},
   "source": [
    "`"
   ]
  },
  {
   "cell_type": "markdown",
   "metadata": {},
   "source": [
    "### Exploratory Data Analysis (EDA) & Insights Extraction"
   ]
  },
  {
   "cell_type": "code",
   "execution_count": 42,
   "metadata": {},
   "outputs": [
    {
     "data": {
      "image/png": "[encoded data removed]",
      "text/plain": [
       "<Figure size 1008x432 with 1 Axes>"
      ]
     },
     "metadata": {
      "needs_background": "light"
     },
     "output_type": "display_data"
    }
   ],
   "source": [
    "# ranks of first 20 companies with job postings\n",
    "\n",
    "top_companies = df['company'].value_counts().head(20)\n",
    "\n",
    "plt.figure(figsize=(14,6))\n",
    "sns.countplot(y='company', data=df, order=top_companies.index, palette='viridis')\n",
    "plt.title('Top 20 Companies by Job Postings')\n",
    "plt.xlabel('Number of Job Postings')\n",
    "plt.ylabel('Company')\n",
    "plt.show()"
   ]
  },
  {
   "cell_type": "code",
   "execution_count": 43,
   "metadata": {
    "scrolled": true
   },
   "outputs": [
    {
     "data": {
      "text/plain": [
       "company           country      \n",
       "PayPal            United States    499\n",
       "Progressive Edge  South Africa     146\n",
       "SSENSE            Canada           133\n",
       "Turing.com        Nigeria          129\n",
       "Experian          South Africa     114\n",
       "Synechron         Canada           110\n",
       "Insight Global    United States     97\n",
       "Diverse Lynx      Canada            91\n",
       "FNB South Africa  South Africa      76\n",
       "Citi              Canada            76\n",
       "theScore          Canada            72\n",
       "Onlia             Canada            72\n",
       "Watu Credit       Kenya             72\n",
       "Agility Partners  United States     69\n",
       "Mediavine         United States     62\n",
       "dtype: int64"
      ]
     },
     "execution_count": 43,
     "metadata": {},
     "output_type": "execute_result"
    }
   ],
   "source": [
    "# how the first 15 companies are divided by job postings, and by countries\n",
    "df[['company','country']].value_counts().head(15)"
   ]
  },
  {
   "cell_type": "markdown",
   "metadata": {},
   "source": [
    "."
   ]
  },
  {
   "cell_type": "code",
   "execution_count": 44,
   "metadata": {},
   "outputs": [
    {
     "data": {
      "text/plain": [
       "array(['Egypt', 'Kenya', 'South Africa', 'Botswana', 'Senegal', 'Tunisia',\n",
       "       'The Gambia', 'Ghana', 'Nigeria', 'Morocco', 'Burkina Faso',\n",
       "       'Eastern Africa', 'Mali', 'Zimbabwe', 'Canada', 'United States'],\n",
       "      dtype=object)"
      ]
     },
     "execution_count": 44,
     "metadata": {},
     "output_type": "execute_result"
    }
   ],
   "source": [
    "df['country'].unique()"
   ]
  },
  {
   "cell_type": "code",
   "execution_count": 45,
   "metadata": {},
   "outputs": [],
   "source": [
    "# pick out the african countries alone for grouping\n",
    "africa_countries = ['Kenya', 'South Africa', 'Botswana', 'Senegal', 'The Gambia', 'Ghana', 'Nigeria', \n",
    "                   'Tunisia', 'Burkina Faso', 'Egypt', 'Eastern Africa', 'Mali', 'Morocco', 'Zimbabwe']\n",
    "\n",
    "df['country_2'] = df['country'].apply(lambda x: 'Africa' if x in africa_countries else x)"
   ]
  },
  {
   "cell_type": "code",
   "execution_count": 46,
   "metadata": {},
   "outputs": [
    {
     "data": {
      "text/plain": [
       "array(['Africa', 'Canada', 'United States'], dtype=object)"
      ]
     },
     "execution_count": 46,
     "metadata": {},
     "output_type": "execute_result"
    }
   ],
   "source": [
    "df['country_2'].unique()"
   ]
  },
  {
   "cell_type": "code",
   "execution_count": 47,
   "metadata": {},
   "outputs": [],
   "source": [
    "# splitting the data into regions (parts) for likely further analysis\n",
    "africa = df.iloc[:2872]\n",
    "canada = df.iloc[2872:5645]\n",
    "us = df.iloc[5645:]"
   ]
  },
  {
   "cell_type": "markdown",
   "metadata": {},
   "source": [
    "."
   ]
  },
  {
   "cell_type": "code",
   "execution_count": 48,
   "metadata": {},
   "outputs": [
    {
     "data": {
      "text/plain": [
       "array(['Egypt', 'Kenya', 'South Africa', 'Botswana', 'Senegal', 'Tunisia',\n",
       "       'The Gambia', 'Ghana', 'Nigeria', 'Morocco', 'Burkina Faso',\n",
       "       'Eastern Africa', 'Mali', 'Zimbabwe'], dtype=object)"
      ]
     },
     "execution_count": 48,
     "metadata": {},
     "output_type": "execute_result"
    }
   ],
   "source": [
    "africa['country'].unique()"
   ]
  },
  {
   "cell_type": "code",
   "execution_count": 49,
   "metadata": {},
   "outputs": [],
   "source": [
    "# function to calculate the total months and days for which job postings occured for each regions\n",
    "def calculate_duration(df):\n",
    "    diff = df['posted_date'].max() - df['posted_date'].min()\n",
    "    months = diff.days // 30\n",
    "    days = diff.days % 30\n",
    "    return (months, days)"
   ]
  },
  {
   "cell_type": "code",
   "execution_count": 50,
   "metadata": {},
   "outputs": [
    {
     "name": "stdout",
     "output_type": "stream",
     "text": [
      "Length of job postings for Africa: 2 months, 27 days\n",
      "Length of job postings for Canada: 6 months, 14 days\n",
      "Length of job postings for US: 3 months, 13 days\n"
     ]
    }
   ],
   "source": [
    "# use the function for each region\n",
    "canada_duration = calculate_duration(canada)\n",
    "africa_duration = calculate_duration(africa)\n",
    "us_duration = calculate_duration(us)\n",
    "\n",
    "\n",
    "# Print out the results for each region\n",
    "print(\"Length of job postings for Africa: {} months, {} days\".format(africa_duration[0], africa_duration[1]))\n",
    "print(\"Length of job postings for Canada: {} months, {} days\".format(canada_duration[0], canada_duration[1]))\n",
    "print(\"Length of job postings for US: {} months, {} days\".format(us_duration[0], us_duration[1]))\n"
   ]
  },
  {
   "cell_type": "markdown",
   "metadata": {},
   "source": [
    "##### Obviously, Africa has the least job postings period, and Canada the most - based on the source data"
   ]
  },
  {
   "cell_type": "markdown",
   "metadata": {},
   "source": [
    "."
   ]
  },
  {
   "cell_type": "code",
   "execution_count": 51,
   "metadata": {},
   "outputs": [
    {
     "data": {
      "image/png": "[encoded data removed]",
      "text/plain": [
       "<Figure size 1008x360 with 1 Axes>"
      ]
     },
     "metadata": {
      "needs_background": "light"
     },
     "output_type": "display_data"
    }
   ],
   "source": [
    "# the distribution of job modes or categories across the regions (Africa, Canada and United States) \n",
    "plt.figure(figsize=(14,5))\n",
    "sns.set(style='darkgrid')\n",
    "ax = sns.barplot(x='country_2', y='count', hue='onsite_remote', \n",
    "                 data=df.groupby(['country_2', 'onsite_remote']).size().reset_index(name='count'))\n",
    "\n",
    "ax.set(xlabel='Region', ylabel='Count', title='Distribution of onsite, hybrid & remote jobs in regions')\n",
    "plt.show()"
   ]
  },
  {
   "cell_type": "markdown",
   "metadata": {},
   "source": [
    "##### United States tends to have the most remote roles while Canada, the least. \n",
    "##### Caveat: The timeframe of job posting isn't the same for the regions."
   ]
  },
  {
   "cell_type": "markdown",
   "metadata": {},
   "source": [
    "."
   ]
  },
  {
   "cell_type": "markdown",
   "metadata": {},
   "source": [
    "#### Distribution by job posting counts in Africa:"
   ]
  },
  {
   "cell_type": "code",
   "execution_count": 52,
   "metadata": {
    "scrolled": true
   },
   "outputs": [
    {
     "data": {
      "text/plain": [
       "South Africa      1438\n",
       "Botswana           308\n",
       "Egypt              274\n",
       "Kenya              220\n",
       "Nigeria            215\n",
       "Ghana              134\n",
       "Mali                76\n",
       "Morocco             52\n",
       "Zimbabwe            38\n",
       "Tunisia             38\n",
       "Eastern Africa      38\n",
       "Senegal             36\n",
       "The Gambia           3\n",
       "Burkina Faso         2\n",
       "Name: country, dtype: int64"
      ]
     },
     "execution_count": 52,
     "metadata": {},
     "output_type": "execute_result"
    }
   ],
   "source": [
    "# distribution of job postings across African countries\n",
    "africa['country'].value_counts()"
   ]
  },
  {
   "cell_type": "code",
   "execution_count": 53,
   "metadata": {},
   "outputs": [
    {
     "data": {
      "image/png": "[encoded data removed]",
      "text/plain": [
       "<Figure size 1440x360 with 3 Axes>"
      ]
     },
     "metadata": {},
     "output_type": "display_data"
    }
   ],
   "source": [
    "# Create a list of job categories\n",
    "job_categories = ['remote', 'hybrid', 'onsite']\n",
    "\n",
    "# Loop through the job categories and plot the bar charts\n",
    "fig, axes = plt.subplots(nrows=1, ncols=len(job_categories), figsize=(20,5))\n",
    "\n",
    "for i, category in enumerate(job_categories):\n",
    "    df_africa = africa[africa['onsite_remote'] == category]     # Filter the dataframe by job category\n",
    "    sns.barplot(x=df_africa['country'].value_counts().head(20).index,     # Create the bar plot\n",
    "                y=df_africa['country'].value_counts().head(20).values,\n",
    "                ax=axes[i])\n",
    "    \n",
    "    # Set the title and labels\n",
    "    axes[i].set_title(f\"Rank of Countries in Africa with '{category}' job category\")\n",
    "    axes[i].set_xlabel(\"Country\")\n",
    "    axes[i].set_ylabel(\"Value Count\")\n",
    "    \n",
    "    # Rotate x-axis labels for readability\n",
    "    axes[i].set_xticklabels(axes[i].get_xticklabels(), rotation=30)\n",
    "\n",
    "# Adjust the layout\n",
    "plt.tight_layout()\n"
   ]
  },
  {
   "cell_type": "markdown",
   "metadata": {},
   "source": [
    "##### NB: South Africa is observed to have the most of all categories of jobs (remote, hybrid and on-site)"
   ]
  },
  {
   "cell_type": "markdown",
   "metadata": {},
   "source": [
    "."
   ]
  },
  {
   "cell_type": "markdown",
   "metadata": {},
   "source": [
    "### The trend of job postings across the 3 regions: Africa, Canada, United States"
   ]
  },
  {
   "cell_type": "code",
   "execution_count": 54,
   "metadata": {},
   "outputs": [
    {
     "data": {
      "image/png": "[encoded data removed]",
      "text/plain": [
       "<Figure size 1080x360 with 1 Axes>"
      ]
     },
     "metadata": {},
     "output_type": "display_data"
    }
   ],
   "source": [
    "# Group the data by country and month, and count the number of job postings\n",
    "grouped_country_by_week = df.groupby(['country_2', pd.Grouper(key='posted_date', \n",
    "                                                              freq='W')])['posted_date'].count().reset_index(name='count')\n",
    "\n",
    "# Plot the trend by months of job posting\n",
    "plt.figure(figsize=(15,5))\n",
    "ax = sns.lineplot(x='posted_date', y='count', hue='country_2', data=grouped_country_by_week)\n",
    "\n",
    "# Set the title and labels\n",
    "plt.title(\"Trend by Weeks of Job Posting\")\n",
    "plt.xlabel(\"Week\")\n",
    "plt.ylabel(\"Number of Job Postings\")\n",
    "\n",
    "# Format x-axis labels as weeks\n",
    "ax.xaxis.set_major_formatter(mdates.DateFormatter('%Y-%m-%d'))\n",
    "\n",
    "# Show the plot\n",
    "plt.show()"
   ]
  },
  {
   "cell_type": "markdown",
   "metadata": {},
   "source": [
    "."
   ]
  },
  {
   "cell_type": "markdown",
   "metadata": {},
   "source": [
    "### Average job postings per week across the regions"
   ]
  },
  {
   "cell_type": "code",
   "execution_count": 55,
   "metadata": {},
   "outputs": [
    {
     "data": {
      "text/html": [
       "<div>\n",
       "<style scoped>\n",
       "    .dataframe tbody tr th:only-of-type {\n",
       "        vertical-align: middle;\n",
       "    }\n",
       "\n",
       "    .dataframe tbody tr th {\n",
       "        vertical-align: top;\n",
       "    }\n",
       "\n",
       "    .dataframe thead th {\n",
       "        text-align: right;\n",
       "    }\n",
       "</style>\n",
       "<table border=\"1\" class=\"dataframe\">\n",
       "  <thead>\n",
       "    <tr style=\"text-align: right;\">\n",
       "      <th>col_0</th>\n",
       "      <th>Average Postings per Week</th>\n",
       "    </tr>\n",
       "    <tr>\n",
       "      <th>Region</th>\n",
       "      <th></th>\n",
       "    </tr>\n",
       "  </thead>\n",
       "  <tbody>\n",
       "    <tr>\n",
       "      <th>Africa</th>\n",
       "      <td>205.142857</td>\n",
       "    </tr>\n",
       "    <tr>\n",
       "      <th>Canada</th>\n",
       "      <td>95.620690</td>\n",
       "    </tr>\n",
       "    <tr>\n",
       "      <th>United States</th>\n",
       "      <td>177.812500</td>\n",
       "    </tr>\n",
       "  </tbody>\n",
       "</table>\n",
       "</div>"
      ],
      "text/plain": [
       "col_0          Average Postings per Week\n",
       "Region                                  \n",
       "Africa                        205.142857\n",
       "Canada                         95.620690\n",
       "United States                 177.812500"
      ]
     },
     "execution_count": 55,
     "metadata": {},
     "output_type": "execute_result"
    }
   ],
   "source": [
    "# Define the region list\n",
    "region_list = [africa, canada, us]\n",
    "\n",
    "# Use list comprehension to calculate average job postings per week for each region\n",
    "results = [{'Region': region['country_2'].iloc[0], \n",
    "            'Average Postings per Week': region.groupby(pd.Grouper(key='posted_date', freq='W'))\n",
    "            ['posted_date'].count().mean()} \n",
    "            for region in region_list]\n",
    "\n",
    "# Create a DataFrame from the results\n",
    "result_df = pd.DataFrame(results)\n",
    "\n",
    "# Create a crosstab of the results\n",
    "crosstab = pd.crosstab(result_df['Region'], columns='Average Postings per Week', \n",
    "                       values=result_df['Average Postings per Week'], aggfunc='mean')\n",
    "crosstab"
   ]
  },
  {
   "cell_type": "markdown",
   "metadata": {},
   "source": [
    "`"
   ]
  },
  {
   "cell_type": "markdown",
   "metadata": {},
   "source": [
    "### insights into salary range (min and max)"
   ]
  },
  {
   "cell_type": "code",
   "execution_count": 56,
   "metadata": {},
   "outputs": [
    {
     "name": "stdout",
     "output_type": "stream",
     "text": [
      "          min salary     max salary\n",
      "count     964.000000     964.000000\n",
      "mean    51038.103568   61377.172075\n",
      "std     49163.664042   58031.562191\n",
      "min        22.000000      24.000000\n",
      "25%        40.000000      60.000000\n",
      "50%     60000.000000   80000.000000\n",
      "75%     90000.000000  115000.000000\n",
      "max    135000.000000  155000.000000\n"
     ]
    }
   ],
   "source": [
    "# summary statistics of minimum and maximum salaries\n",
    "print(df[['min salary', 'max salary']].describe())"
   ]
  },
  {
   "cell_type": "markdown",
   "metadata": {},
   "source": [
    "##### seems certain jobs were included with unrealistic salaries such as 22,24,40,60 and even negative numbers. There is need to exclude such anomalies in salaries columns "
   ]
  },
  {
   "cell_type": "markdown",
   "metadata": {},
   "source": [
    "."
   ]
  },
  {
   "cell_type": "code",
   "execution_count": 57,
   "metadata": {},
   "outputs": [
    {
     "data": {
      "image/png": "[encoded data removed]",
      "text/plain": [
       "<Figure size 1080x360 with 1 Axes>"
      ]
     },
     "metadata": {},
     "output_type": "display_data"
    }
   ],
   "source": [
    "plt.figure(figsize=(15,5))\n",
    "# Plot the KDE for 'min salary' and 'max salary'\n",
    "sns.kdeplot(df[df['min salary'] > 15000]['min salary'].dropna(), shade=True, label='Min Salary')\n",
    "sns.kdeplot(df[df['max salary'] > 15000]['max salary'].dropna(), shade=True, label='Max Salary')\n",
    "\n",
    "# Add labels and title\n",
    "plt.xlabel('Salary Expectation')\n",
    "plt.ylabel(None)\n",
    "plt.title('Distribution of Salary Expectations')\n",
    "plt.legend()\n",
    "plt.show()\n"
   ]
  },
  {
   "cell_type": "markdown",
   "metadata": {},
   "source": [
    "###### some companies/countries have quite a high Min Salary for Analysts' roles"
   ]
  },
  {
   "cell_type": "code",
   "execution_count": 58,
   "metadata": {},
   "outputs": [
    {
     "name": "stdout",
     "output_type": "stream",
     "text": [
      "Companies with quite a high minimum salary are: \n",
      " ['Libitzky Property Companies', 'Storm2', 'EdgeLink', 'Gridiron IT', 'Insight Global'] \n",
      " and the countries they are from:\n",
      " ['Canada', 'United States']\n"
     ]
    }
   ],
   "source": [
    "# Calculate the 90th percentile salary of Min Salary to check companies/countries paying that much\n",
    "min_salary_90th_percentile = df['min salary'].quantile(0.9)\n",
    "\n",
    "# Filter the dataframe based on the 90th percentile salary\n",
    "filtered_df = df[df['min salary'] >= min_salary_90th_percentile]\n",
    "\n",
    "#filtered_df[['company', 'country']].unique()\n",
    "countries = filtered_df['country_2'].unique().tolist()\n",
    "companies = filtered_df['company'].unique().tolist()\n",
    "\n",
    "print(f\"Companies with quite a high minimum salary are: \\n {companies} \\n and the countries they are from:\\n {countries}\")"
   ]
  },
  {
   "cell_type": "markdown",
   "metadata": {},
   "source": [
    "##### To check the the job titles of analyst roles for those companies and also the positions..."
   ]
  },
  {
   "cell_type": "code",
   "execution_count": 59,
   "metadata": {},
   "outputs": [
    {
     "data": {
      "text/html": [
       "<div>\n",
       "<style scoped>\n",
       "    .dataframe tbody tr th:only-of-type {\n",
       "        vertical-align: middle;\n",
       "    }\n",
       "\n",
       "    .dataframe tbody tr th {\n",
       "        vertical-align: top;\n",
       "    }\n",
       "\n",
       "    .dataframe thead th {\n",
       "        text-align: right;\n",
       "    }\n",
       "</style>\n",
       "<table border=\"1\" class=\"dataframe\">\n",
       "  <thead>\n",
       "    <tr style=\"text-align: right;\">\n",
       "      <th></th>\n",
       "      <th>company</th>\n",
       "      <th>country</th>\n",
       "      <th>title</th>\n",
       "      <th>position level</th>\n",
       "      <th>min salary</th>\n",
       "      <th>max salary</th>\n",
       "    </tr>\n",
       "  </thead>\n",
       "  <tbody>\n",
       "    <tr>\n",
       "      <th>0</th>\n",
       "      <td>Libitzky Property Companies</td>\n",
       "      <td>Canada</td>\n",
       "      <td>Data Analyst</td>\n",
       "      <td>Entry level</td>\n",
       "      <td>135000.0</td>\n",
       "      <td>140000.0</td>\n",
       "    </tr>\n",
       "    <tr>\n",
       "      <th>1</th>\n",
       "      <td>Libitzky Property Companies</td>\n",
       "      <td>Canada</td>\n",
       "      <td>Data Analyst</td>\n",
       "      <td>NaN</td>\n",
       "      <td>135000.0</td>\n",
       "      <td>140000.0</td>\n",
       "    </tr>\n",
       "    <tr>\n",
       "      <th>2</th>\n",
       "      <td>Storm2</td>\n",
       "      <td>United States</td>\n",
       "      <td>Data Analyst</td>\n",
       "      <td>Mid-Senior level</td>\n",
       "      <td>120000.0</td>\n",
       "      <td>135000.0</td>\n",
       "    </tr>\n",
       "    <tr>\n",
       "      <th>3</th>\n",
       "      <td>EdgeLink</td>\n",
       "      <td>United States</td>\n",
       "      <td>Data Analyst</td>\n",
       "      <td>Mid-Senior level</td>\n",
       "      <td>125000.0</td>\n",
       "      <td>155000.0</td>\n",
       "    </tr>\n",
       "    <tr>\n",
       "      <th>4</th>\n",
       "      <td>Storm2</td>\n",
       "      <td>United States</td>\n",
       "      <td>Data Analyst</td>\n",
       "      <td>NaN</td>\n",
       "      <td>120000.0</td>\n",
       "      <td>135000.0</td>\n",
       "    </tr>\n",
       "    <tr>\n",
       "      <th>5</th>\n",
       "      <td>EdgeLink</td>\n",
       "      <td>United States</td>\n",
       "      <td>Data Analyst</td>\n",
       "      <td>NaN</td>\n",
       "      <td>125000.0</td>\n",
       "      <td>155000.0</td>\n",
       "    </tr>\n",
       "    <tr>\n",
       "      <th>6</th>\n",
       "      <td>Gridiron IT</td>\n",
       "      <td>United States</td>\n",
       "      <td>Data Analyst</td>\n",
       "      <td>Associate</td>\n",
       "      <td>120000.0</td>\n",
       "      <td>130000.0</td>\n",
       "    </tr>\n",
       "    <tr>\n",
       "      <th>7</th>\n",
       "      <td>Insight Global</td>\n",
       "      <td>United States</td>\n",
       "      <td>Data Analyst</td>\n",
       "      <td>Mid-Senior level</td>\n",
       "      <td>130000.0</td>\n",
       "      <td>150000.0</td>\n",
       "    </tr>\n",
       "    <tr>\n",
       "      <th>8</th>\n",
       "      <td>Storm2</td>\n",
       "      <td>United States</td>\n",
       "      <td>Data Analyst/ $100M Valuation/ Hybrid</td>\n",
       "      <td>NaN</td>\n",
       "      <td>120000.0</td>\n",
       "      <td>150000.0</td>\n",
       "    </tr>\n",
       "    <tr>\n",
       "      <th>9</th>\n",
       "      <td>Insight Global</td>\n",
       "      <td>United States</td>\n",
       "      <td>Data Analyst</td>\n",
       "      <td>NaN</td>\n",
       "      <td>130000.0</td>\n",
       "      <td>150000.0</td>\n",
       "    </tr>\n",
       "  </tbody>\n",
       "</table>\n",
       "</div>"
      ],
      "text/plain": [
       "                       company        country  \\\n",
       "0  Libitzky Property Companies         Canada   \n",
       "1  Libitzky Property Companies         Canada   \n",
       "2                       Storm2  United States   \n",
       "3                     EdgeLink  United States   \n",
       "4                       Storm2  United States   \n",
       "5                     EdgeLink  United States   \n",
       "6                  Gridiron IT  United States   \n",
       "7               Insight Global  United States   \n",
       "8                       Storm2  United States   \n",
       "9               Insight Global  United States   \n",
       "\n",
       "                                   title    position level  min salary  \\\n",
       "0                           Data Analyst       Entry level    135000.0   \n",
       "1                           Data Analyst               NaN    135000.0   \n",
       "2                           Data Analyst  Mid-Senior level    120000.0   \n",
       "3                           Data Analyst  Mid-Senior level    125000.0   \n",
       "4                           Data Analyst               NaN    120000.0   \n",
       "5                           Data Analyst               NaN    125000.0   \n",
       "6                           Data Analyst         Associate    120000.0   \n",
       "7                           Data Analyst  Mid-Senior level    130000.0   \n",
       "8  Data Analyst/ $100M Valuation/ Hybrid               NaN    120000.0   \n",
       "9                           Data Analyst               NaN    130000.0   \n",
       "\n",
       "   max salary  \n",
       "0    140000.0  \n",
       "1    140000.0  \n",
       "2    135000.0  \n",
       "3    155000.0  \n",
       "4    135000.0  \n",
       "5    155000.0  \n",
       "6    130000.0  \n",
       "7    150000.0  \n",
       "8    150000.0  \n",
       "9    150000.0  "
      ]
     },
     "execution_count": 59,
     "metadata": {},
     "output_type": "execute_result"
    }
   ],
   "source": [
    "high_min_salary_coy = ['Libitzky Property Companies', 'Storm2', 'EdgeLink', 'Gridiron IT', 'Insight Global']\n",
    "\n",
    "filtered_df[filtered_df['company'].isin(high_min_salary_coy)][\n",
    "    ['company','country','title', 'position level','min salary', 'max salary']].drop_duplicates().reset_index(drop=True)\n"
   ]
  },
  {
   "cell_type": "markdown",
   "metadata": {},
   "source": [
    "##### Quite interesting to know that job levels such as Entry level, Associate and Mid-Senior levels earn above 100k dollars in those companies "
   ]
  },
  {
   "cell_type": "markdown",
   "metadata": {},
   "source": [
    "`"
   ]
  },
  {
   "cell_type": "markdown",
   "metadata": {},
   "source": [
    "###### looking at % of job postings from regions with specified salary range; using either min salary or max salary column"
   ]
  },
  {
   "cell_type": "code",
   "execution_count": 60,
   "metadata": {},
   "outputs": [
    {
     "name": "stdout",
     "output_type": "stream",
     "text": [
      "Percentage of job postings which include salary for \n",
      "Africa, Canada and US respectively are: 0.0, 0.01 and 0.48 \n"
     ]
    }
   ],
   "source": [
    "africa_notnull_to_null = round(africa['min salary'].notnull().sum()/africa['min salary'].isnull().sum(),2)\n",
    "canada_notnull_to_null = round(canada['min salary'].notnull().sum()/canada['min salary'].isnull().sum(),2)\n",
    "us_notnull_to_null = round(us['min salary'].notnull().sum()/us['min salary'].isnull().sum(),2)\n",
    "\n",
    "print(f\"Percentage of job postings which include salary for \\nAfrica, Canada and US respectively are: {africa_notnull_to_null}, {canada_notnull_to_null} and {us_notnull_to_null} \")"
   ]
  },
  {
   "cell_type": "markdown",
   "metadata": {},
   "source": [
    "."
   ]
  },
  {
   "cell_type": "markdown",
   "metadata": {},
   "source": [
    "#### The requirement of job level (position) demanded"
   ]
  },
  {
   "cell_type": "markdown",
   "metadata": {},
   "source": [
    "##### !unfortunately, there'll be need to filter out the columns with Arabic description in the 'position' column' !"
   ]
  },
  {
   "cell_type": "code",
   "execution_count": 62,
   "metadata": {},
   "outputs": [
    {
     "data": {
      "text/plain": [
       "Entry level         2591\n",
       "Mid-Senior level    2376\n",
       "Associate           1441\n",
       "Not Applicable      1182\n",
       "Full-time            276\n",
       "Contract              55\n",
       "Internship            41\n",
       "Part-time             37\n",
       "Volunteer              1\n",
       "Executive              1\n",
       "Name: position level, dtype: int64"
      ]
     },
     "execution_count": 62,
     "metadata": {},
     "output_type": "execute_result"
    }
   ],
   "source": [
    "position_wtout_arabic_description = df[~df['position level'].astype(str).str.contains('[\\u0600-\\u06FF]')]['position level']\n",
    "position_wtout_arabic_description.value_counts()"
   ]
  },
  {
   "cell_type": "code",
   "execution_count": 63,
   "metadata": {
    "scrolled": true
   },
   "outputs": [
    {
     "data": {
      "image/png": "[encoded data removed]",
      "text/plain": [
       "<Figure size 1008x360 with 1 Axes>"
      ]
     },
     "metadata": {},
     "output_type": "display_data"
    }
   ],
   "source": [
    "order = position_wtout_arabic_description.value_counts().index # order by descending count\n",
    "\n",
    "plt.figure(figsize=(14,5)) # increase size of plot\n",
    "sns.countplot(data=df, y=position_wtout_arabic_description, order=order)\n",
    "plt.title('Distribution of Positional Level by Job Posts')\n",
    "plt.xlabel(None)\n",
    "plt.ylabel(None)\n",
    "plt.show()"
   ]
  },
  {
   "cell_type": "markdown",
   "metadata": {},
   "source": [
    "`"
   ]
  },
  {
   "cell_type": "markdown",
   "metadata": {},
   "source": [
    "#### Probing the employment types and how they rank"
   ]
  },
  {
   "cell_type": "code",
   "execution_count": 64,
   "metadata": {},
   "outputs": [
    {
     "data": {
      "text/plain": [
       "Index(['title', 'company', 'onsite_remote', 'min salary', 'max salary',\n",
       "       'position level', 'employment type', 'job function', 'industries',\n",
       "       'posted_date', 'city', 'province/state', 'country', 'country_2'],\n",
       "      dtype='object')"
      ]
     },
     "execution_count": 64,
     "metadata": {},
     "output_type": "execute_result"
    }
   ],
   "source": [
    "df.columns"
   ]
  },
  {
   "cell_type": "code",
   "execution_count": 65,
   "metadata": {},
   "outputs": [
    {
     "data": {
      "image/png": "[encoded data removed]",
      "text/plain": [
       "<Figure size 1008x432 with 1 Axes>"
      ]
     },
     "metadata": {},
     "output_type": "display_data"
    }
   ],
   "source": [
    "employment_wtout_arabic_description = df[~df['employment type'].astype(str).\n",
    "                                         str.contains('[\\u0600-\\u06FF]')]['employment type']\n",
    "\n",
    "explode = (0.6, 0.3, 0.2, 0, 0)\n",
    "plt.figure(figsize=(14,6))\n",
    "employment_wtout_arabic_description.value_counts(sort=True, ascending=True).plot(kind='pie', autopct='%1.1f%%',colors=sns.\n",
    "                                                                          color_palette('pastel'), explode=explode)\n",
    "plt.title('Share of Employment Types')\n",
    "plt.axis('equal')\n",
    "plt.ylabel(None)\n",
    "plt.show()"
   ]
  },
  {
   "cell_type": "markdown",
   "metadata": {},
   "source": [
    "."
   ]
  },
  {
   "cell_type": "markdown",
   "metadata": {},
   "source": [
    "### Industries across which analyst jobs are demanded"
   ]
  },
  {
   "cell_type": "code",
   "execution_count": 66,
   "metadata": {},
   "outputs": [
    {
     "data": {
      "text/plain": [
       "1                                      Financial Services\n",
       "2                    Technology, Information and Internet\n",
       "3                                      Financial Services\n",
       "4       IT Services and IT Consulting and Wellness and...\n",
       "6                           IT Services and IT Consulting\n",
       "                              ...                        \n",
       "8485                        IT Services and IT Consulting\n",
       "8486                                   Financial Services\n",
       "8487    IT Services and IT Consulting, Software Develo...\n",
       "8488                              Entertainment Providers\n",
       "8489    Entertainment Providers and Hospitals and Heal...\n",
       "Name: industries, Length: 8203, dtype: object"
      ]
     },
     "execution_count": 66,
     "metadata": {},
     "output_type": "execute_result"
    }
   ],
   "source": [
    "# to remove the column(s) with arabic in [industries] column\n",
    "industries_wtout_arabic = df[~df['industries'].astype(str).str.contains('[\\u0600-\\u06FF]')]['industries']\n",
    "\n",
    "industries_wtout_arabic"
   ]
  },
  {
   "cell_type": "code",
   "execution_count": 67,
   "metadata": {},
   "outputs": [
    {
     "data": {
      "text/plain": [
       "IT Services and IT Consulting                        1577\n",
       "Software Development                                  944\n",
       "Financial Services                                    506\n",
       "Technology                                            463\n",
       "Staffing and Recruiting                               452\n",
       "                                                     ... \n",
       "IT Services and IT Consulting and Musicians             1\n",
       "Professional Services                                   1\n",
       "Food and Beverage Services and Financial Services       1\n",
       "Beverage Manufacturing                                  1\n",
       "Civil Engineering                                       1\n",
       "Name: 0, Length: 91, dtype: int64"
      ]
     },
     "execution_count": 67,
     "metadata": {},
     "output_type": "execute_result"
    }
   ],
   "source": [
    "# splits the comma-separated values in the industries column into separate columns and then counts the frequency \n",
    "# of each unique value in the first column,\n",
    "industries_wtout_arabic.str.split(',\\s*').apply(pd.Series)[0].value_counts()"
   ]
  },
  {
   "cell_type": "code",
   "execution_count": 68,
   "metadata": {},
   "outputs": [
    {
     "data": {
      "text/plain": [
       "IT Services and IT Consulting       1577\n",
       "Software Development                 944\n",
       "Financial Services                   506\n",
       "Technology                           463\n",
       "Staffing and Recruiting              452\n",
       "Retail                               323\n",
       "Advertising Services                 206\n",
       "Insurance                            205\n",
       "Banking                              175\n",
       "Retail Apparel and Fashion           137\n",
       "Business Consulting and Services     127\n",
       "Human Resources Services             115\n",
       "Information Services                 109\n",
       "Appliances                           101\n",
       "Telecommunications                    80\n",
       "Name: 0, dtype: int64"
      ]
     },
     "execution_count": 68,
     "metadata": {},
     "output_type": "execute_result"
    }
   ],
   "source": [
    "top_15_industries = industries_wtout_arabic.str.split(',\\s*').apply(pd.Series)[0].value_counts().head(15)\n",
    "\n",
    "top_15_industries"
   ]
  },
  {
   "cell_type": "code",
   "execution_count": 69,
   "metadata": {},
   "outputs": [
    {
     "data": {
      "image/png": "[encoded data removed]",
      "text/plain": [
       "<Figure size 864x432 with 1 Axes>"
      ]
     },
     "metadata": {},
     "output_type": "display_data"
    }
   ],
   "source": [
    "# Plot a count plot of the top 15 industries requiring different data analyst roles\n",
    "sns.set_style('dark')\n",
    "plt.figure(figsize=(12,6))\n",
    "sns.countplot(y=industries_wtout_arabic.str.split(',\\s*').apply(pd.Series)[0],order=top_15_industries.index)\n",
    "plt.title('Top 15 Industries')\n",
    "plt.xlabel('Count')\n",
    "plt.ylabel('Industry')\n",
    "plt.show()"
   ]
  },
  {
   "cell_type": "markdown",
   "metadata": {},
   "source": [
    "##### Obviously, IT services/Consulting comes atop, and surprisingly, Telecoms, the last in the rank of top 15 industries"
   ]
  },
  {
   "cell_type": "markdown",
   "metadata": {},
   "source": [
    "."
   ]
  },
  {
   "cell_type": "code",
   "execution_count": null,
   "metadata": {},
   "outputs": [],
   "source": []
  }
 ],
 "metadata": {
  "kernelspec": {
   "display_name": "Python 3",
   "language": "python",
   "name": "python3"
  },
  "language_info": {
   "codemirror_mode": {
    "name": "ipython",
    "version": 3
   },
   "file_extension": ".py",
   "mimetype": "text/x-python",
   "name": "python",
   "nbconvert_exporter": "python",
   "pygments_lexer": "ipython3",
   "version": "3.8.5"
  }
 },
 "nbformat": 4,
 "nbformat_minor": 4
}
